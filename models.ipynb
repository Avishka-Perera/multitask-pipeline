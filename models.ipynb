{
    "cells": [
        {
            "cell_type": "markdown",
            "metadata": {},
            "source": [
                "# Encoder"
            ]
        },
        {
            "cell_type": "markdown",
            "metadata": {},
            "source": [
                "## ViT-Base"
            ]
        },
        {
            "cell_type": "markdown",
            "metadata": {},
            "source": [
                "### Usage"
            ]
        },
        {
            "cell_type": "code",
            "execution_count": null,
            "metadata": {},
            "outputs": [],
            "source": [
                "from src.models.encoder import VisionTransformerBase\n",
                "from src.datasets import ClassDataset\n",
                "from torch.utils.data import DataLoader\n",
                "\n",
                "model = VisionTransformerBase(\"models/mae_pretrain_vit_base.pth\")\n",
                "ds = ClassDataset(\"datasets/tea-grade-v2\", resize_wh=[224, 224])\n",
                "dl = DataLoader(ds, 16)\n",
                "\n",
                "for batch in dl:\n",
                "    imgs = batch[\"img\"]\n",
                "    out = model(imgs)\n",
                "    print(out[\"embs\"].shape)\n",
                "    break"
            ]
        },
        {
            "cell_type": "markdown",
            "metadata": {},
            "source": [
                "## ResNet"
            ]
        },
        {
            "cell_type": "markdown",
            "metadata": {},
            "source": [
                "### Usage"
            ]
        },
        {
            "cell_type": "code",
            "execution_count": null,
            "metadata": {},
            "outputs": [],
            "source": [
                "from src.models.encoder import ResNet50 #, ResNet18\n",
                "from src.datasets import ClassDataset\n",
                "from torch.utils.data import DataLoader\n",
                "\n",
                "model = ResNet50(drop_out=0.2) # or ResNet18\n",
                "ds = ClassDataset(\"datasets/tea-grade-v2\", resize_wh=[224, 224])\n",
                "dl = DataLoader(ds, 16)\n",
                "\n",
                "for batch in dl:\n",
                "    imgs = batch[\"img\"]\n",
                "    feature_pyramid = model(imgs)\n",
                "    for nm, tens in feature_pyramid.items():\n",
                "        print(nm, tens.shape)\n",
                "    break"
            ]
        }
    ],
    "metadata": {
        "kernelspec": {
            "display_name": "tearetina",
            "language": "python",
            "name": "python3"
        },
        "language_info": {
            "codemirror_mode": {
                "name": "ipython",
                "version": 3
            },
            "file_extension": ".py",
            "mimetype": "text/x-python",
            "name": "python",
            "nbconvert_exporter": "python",
            "pygments_lexer": "ipython3",
            "version": "3.11.5"
        }
    },
    "nbformat": 4,
    "nbformat_minor": 2
}
