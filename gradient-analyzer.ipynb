{
 "cells": [
  {
   "cell_type": "markdown",
   "metadata": {},
   "source": [
    "# CrossEntropy Loss"
   ]
  },
  {
   "cell_type": "markdown",
   "metadata": {},
   "source": [
    "## Create MySimpleDataset"
   ]
  },
  {
   "cell_type": "code",
   "execution_count": 1,
   "metadata": {},
   "outputs": [],
   "source": [
    "import torch\n",
    "from torch.utils.data import Dataset\n",
    "from torchvision import transforms\n",
    "from typing import Sequence, Tuple\n",
    "import os\n",
    "import json\n",
    "from PIL import Image\n",
    "\n",
    "\n",
    "class MySimpleTeaDataset(Dataset):\n",
    "    def __init__(\n",
    "        self,\n",
    "        root: str,\n",
    "        wh:Sequence[int]=[224,224]\n",
    "    ) -> None:\n",
    "        split=\"train\"\n",
    "\n",
    "        # find paths\n",
    "        with open(\n",
    "            os.path.join(\n",
    "                root, \"annotations\", \"classification\", \"splits\", f\"{split}.txt\"\n",
    "            )\n",
    "        ) as handler:\n",
    "            paths = [os.path.join(root, p) for p in handler.read().strip().split(\"\\n\")]\n",
    "\n",
    "        classes = [p.split(\"/\")[-2] for p in paths]\n",
    "        with open(\n",
    "            os.path.join(root, \"annotations\", \"classification\", \"classes.json\")\n",
    "        ) as handler:\n",
    "            lbl_cls_map = {int(i): c for (i, c) in json.load(handler).items()}\n",
    "        cls_lbl_map = {c: i for (i, c) in lbl_cls_map.items()}\n",
    "        cls_lbls = [cls_lbl_map[c] for c in classes]\n",
    "\n",
    "\n",
    "        trans_lst = [transforms.ToTensor()]\n",
    "        if wh is not None:\n",
    "            trans_lst.append(transforms.Resize(wh, antialias=True))\n",
    "        self.transforms = transforms.Compose(trans_lst)\n",
    "\n",
    "        self.paths = paths\n",
    "        self.classes = classes\n",
    "        self.cls_lbl_map = cls_lbl_map\n",
    "        self.lbl_cls_map = lbl_cls_map\n",
    "        self.cls_lbls = cls_lbls\n",
    "\n",
    "    def __len__(self) -> int:\n",
    "        return len(self.paths)\n",
    "\n",
    "    def __getitem__(self, index) -> Tuple[int, torch.Tensor]:\n",
    "        path = self.paths[index]\n",
    "        img = Image.open(path).convert(\"RGB\")\n",
    "        img = self.transforms(img)\n",
    "        lbl = self.cls_lbls[index]\n",
    "        return lbl, img"
   ]
  },
  {
   "cell_type": "markdown",
   "metadata": {},
   "source": [
    "## Train"
   ]
  },
  {
   "cell_type": "code",
   "execution_count": 2,
   "metadata": {},
   "outputs": [
    {
     "name": "stderr",
     "output_type": "stream",
     "text": [
      "EPOCH: 0: 100%|██████████| 4/4 [00:00<00:00,  4.60it/s]\n",
      "EPOCH: 1: 100%|██████████| 4/4 [00:00<00:00,  4.37it/s]\n"
     ]
    },
    {
     "name": "stdout",
     "output_type": "stream",
     "text": [
      "Time taken for CrossEntropy Loss: 38.63070821762085\n"
     ]
    }
   ],
   "source": [
    "from torch.nn import CrossEntropyLoss\n",
    "from torch.nn import Linear\n",
    "from torch.utils.data import DataLoader, Subset\n",
    "from torchvision.models import resnet18\n",
    "from torchvision.models import ResNet18_Weights\n",
    "from src.util import GradAnalyzer\n",
    "from torch.optim import Adam\n",
    "from tqdm import tqdm\n",
    "import time\n",
    "\n",
    "\n",
    "device = 2\n",
    "bs = 16\n",
    "mock_bc = 4\n",
    "ep_count = 2\n",
    "\n",
    "model = resnet18(weights=ResNet18_Weights.DEFAULT)\n",
    "model.fc = Linear(512, 34)\n",
    "model.to(device)\n",
    "\n",
    "optimizer = Adam(model.parameters())\n",
    "ds = Subset(MySimpleTeaDataset(\"datasets/tea-grade-v2\"), range(0, bs * mock_bc))\n",
    "dl = DataLoader(ds, bs)\n",
    "loss_fn = CrossEntropyLoss()\n",
    "grad_analyzer = GradAnalyzer(model, \"out/grad-analyzer-demo/cross-entropy\")\n",
    "\n",
    "start = time.time()\n",
    "for ep in range(ep_count):\n",
    "    for batch in tqdm(dl, desc=f\"EPOCH: {ep}\"):\n",
    "        lbls, imgs = batch\n",
    "        lbls, imgs = lbls.to(device), imgs.to(device)\n",
    "        out = model(imgs)\n",
    "        loss = loss_fn(out, lbls)\n",
    "\n",
    "        optimizer.zero_grad()\n",
    "        loss.backward()\n",
    "        grad_analyzer.batch_step()\n",
    "        optimizer.step()\n",
    "\n",
    "    grad_analyzer.epoch_step(ep)\n",
    "end = time.time()\n",
    "\n",
    "print(f\"Time taken for CrossEntropy Loss: {end-start}\")"
   ]
  },
  {
   "cell_type": "markdown",
   "metadata": {},
   "source": [
    "# MMCR"
   ]
  },
  {
   "cell_type": "code",
   "execution_count": 4,
   "metadata": {},
   "outputs": [
    {
     "name": "stderr",
     "output_type": "stream",
     "text": [
      "0: 100%|██████████| 4/4 [00:02<00:00,  1.70it/s]\n",
      "1: 100%|██████████| 4/4 [00:02<00:00,  1.88it/s]\n"
     ]
    },
    {
     "name": "stdout",
     "output_type": "stream",
     "text": [
      "Time taken for MMCR Loss: 36.26873970031738\n"
     ]
    }
   ],
   "source": [
    "from src.learners import BackBoneLearner\n",
    "from src.datasets import ClassDataset\n",
    "from src.datasets.collate_fns import Augmentor\n",
    "from torch.utils.data import DataLoader, Subset\n",
    "from src.datasets.collate_fns import aug_collate_fn\n",
    "from src.losses import MMCRLoss\n",
    "from src.util import Logger\n",
    "from functools import partial\n",
    "from torch.optim import Adam\n",
    "from tqdm import tqdm\n",
    "import time\n",
    "from src.constants import img_wh\n",
    "\n",
    "logger = Logger(1)\n",
    "device = 2\n",
    "bs = 32\n",
    "mock_bc = 4\n",
    "ep_count = 2\n",
    "\n",
    "model = BackBoneLearner(enc_name=\"ResNet18\", enc_params={\"drop_out\":0.2}, logger=logger, devices=[device])\n",
    "optimizer = Adam(model.parameters())\n",
    "ds = Subset(ClassDataset(\"datasets/tea-grade-v2\", resize_wh=[300, 300]), range(0, bs * mock_bc))\n",
    "aug = Augmentor(img_wh)\n",
    "dl = DataLoader(ds, bs, collate_fn=partial(aug_collate_fn, aug=aug, aug_count=6))\n",
    "loss_fn = MMCRLoss(device=0, lamb=0.01)\n",
    "logger.init_plotter(\"out/grad-analyzer-demo/mmcr\", model)\n",
    "\n",
    "start = time.time()\n",
    "for ep in range(ep_count):\n",
    "    for batch in tqdm(dl, desc=str(ep)):\n",
    "        lbls, imgs = batch[\"lbl\"], batch[\"img\"]\n",
    "        out = model(batch)\n",
    "        loss = loss_fn(out, batch)[\"tot\"]\n",
    "\n",
    "        optimizer.zero_grad()\n",
    "        loss.backward()\n",
    "        logger.batch_step(analyze_grads=True)\n",
    "        optimizer.step()\n",
    "\n",
    "    logger.step(ep, analyze_grad=True)\n",
    "end = time.time()\n",
    "\n",
    "print(f\"Time taken for MMCR Loss: {end-start}\")"
   ]
  }
 ],
 "metadata": {
  "kernelspec": {
   "display_name": "Python 3",
   "language": "python",
   "name": "python3"
  },
  "language_info": {
   "codemirror_mode": {
    "name": "ipython",
    "version": 3
   },
   "file_extension": ".py",
   "mimetype": "text/x-python",
   "name": "python",
   "nbconvert_exporter": "python",
   "pygments_lexer": "ipython3",
   "version": "3.11.5"
  }
 },
 "nbformat": 4,
 "nbformat_minor": 2
}
