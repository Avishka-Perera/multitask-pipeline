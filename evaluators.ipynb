{
    "cells": [
        {
            "cell_type": "markdown",
            "metadata": {},
            "source": [
                "# Classification Evaluator"
            ]
        },
        {
            "cell_type": "code",
            "execution_count": 2,
            "metadata": {},
            "outputs": [],
            "source": [
                "from src.datasets import ClassDataset, aug_collate_fn, Augmentor\n",
                "from functools import partial\n",
                "from torch.utils.data import DataLoader\n",
                "from src.learners import ClassifierLearner\n",
                "from src.evaluators import ClassificationEvaluator\n",
                "from src.util import Logger\n",
                "import torch\n",
                "\n",
                "device = 2\n",
                "logger = Logger(1)\n",
                "ds = ClassDataset(\"datasets/tea-grade-v2\", \"test\")\n",
                "aug = Augmentor([224, 224])\n",
                "dl = DataLoader(ds, 16, collate_fn=partial(aug_collate_fn, aug=aug, aug_count=1))\n",
                "ln = ClassifierLearner(\n",
                "    enc_name=\"ResNet50\",\n",
                "    enc_params={\"drop_out\": 0.2},\n",
                "    dec_params={\"drop_out\": 0.2, \"use_batch_norm\": True},\n",
                "    devices=[device, device],\n",
                "    logger=logger,\n",
                "    head_trail=[34],\n",
                ")\n",
                "ev = ClassificationEvaluator(logger=logger, out_path=\"temp/vis\", has_aug_ax=True)\n",
                "\n",
                "with torch.no_grad():\n",
                "    for i, batch in enumerate(dl):\n",
                "        if i == 10:\n",
                "            break\n",
                "        out = ln(batch)\n",
                "        ev.register(batch=batch, out=out)\n",
                "\n",
                "report = ev.output()\n",
                "assert type(report) == str"
            ]
        },
        {
            "cell_type": "code",
            "execution_count": null,
            "metadata": {},
            "outputs": [],
            "source": []
        }
    ],
    "metadata": {
        "kernelspec": {
            "display_name": "tearetina",
            "language": "python",
            "name": "python3"
        },
        "language_info": {
            "codemirror_mode": {
                "name": "ipython",
                "version": 3
            },
            "file_extension": ".py",
            "mimetype": "text/x-python",
            "name": "python",
            "nbconvert_exporter": "python",
            "pygments_lexer": "ipython3",
            "version": "3.11.5"
        }
    },
    "nbformat": 4,
    "nbformat_minor": 2
}
