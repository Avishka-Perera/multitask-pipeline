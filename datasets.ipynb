{
    "cells": [
        {
            "cell_type": "markdown",
            "metadata": {},
            "source": [
                "# Data splitting"
            ]
        },
        {
            "cell_type": "markdown",
            "metadata": {},
            "source": [
                "## Usage"
            ]
        },
        {
            "cell_type": "code",
            "execution_count": null,
            "metadata": {},
            "outputs": [],
            "source": [
                "# from src.util.data import split_class_dataset\n",
                "\n",
                "# split_class_dataset(\"datasets/tea-std/images\", \"temp/splits\")"
            ]
        },
        {
            "cell_type": "markdown",
            "metadata": {},
            "source": [
                "## Validation"
            ]
        },
        {
            "cell_type": "code",
            "execution_count": null,
            "metadata": {},
            "outputs": [],
            "source": [
                "# import glob\n",
                "\n",
                "# real_tot = len(glob.glob(\"datasets/tea-std/images/*/*\"))\n",
                "# tot = 0\n",
                "# for file in [\"train\", \"val\", \"test\"]:\n",
                "#     with open(f\"temp/splits/{file}.txt\") as handler:\n",
                "#         paths = handler.read().strip().split(\"\\n\")\n",
                "#         classes = list(set([p.split(\"/\")[-2] for p in paths]))\n",
                "#         print(file, len(classes), len(paths))\n",
                "#         tot += len(paths)\n",
                "# assert real_tot <= tot, (real_tot, tot)"
            ]
        },
        {
            "cell_type": "markdown",
            "metadata": {},
            "source": [
                "# ClassDataset"
            ]
        },
        {
            "cell_type": "markdown",
            "metadata": {},
            "source": [
                "## Usage"
            ]
        },
        {
            "cell_type": "code",
            "execution_count": null,
            "metadata": {},
            "outputs": [],
            "source": [
                "from src.datasets import ClassDataset\n",
                "import matplotlib.pyplot as plt\n",
                "import random\n",
                "\n",
                "ds = ClassDataset(\"datasets/tea-grade-v2\")\n",
                "id1 = random.randint(0, len(ds))\n",
                "id2 = random.randint(0, len(ds))\n",
                "sample1 = ds[id1]\n",
                "sample2 = ds[id2]\n",
                "lbl1, img1 = sample1[\"lbl\"], sample1[\"img\"]\n",
                "lbl2, img2 = sample2[\"lbl\"], sample2[\"img\"]\n",
                "print(f\"Dataset length: {len(ds)}\")\n",
                "print(f\"Sample shape: {img1.shape}\")\n",
                "print(f\"Tea grade: {ds.lbl_cls_map[lbl1]}\")\n",
                "print(f\"Dataset class-label map: {ds.cls_lbl_map}\")\n",
                "print(f\"Dataset label-class map: {ds.lbl_cls_map}\")\n",
                "\n",
                "img1, img2 = img1.numpy(), img2.numpy()\n",
                "fig, ax = plt.subplots(1, 2, figsize=(12, 6))\n",
                "ax[0].imshow(img1.transpose(1, 2, 0))\n",
                "ax[0].set_title(ds.lbl_cls_map[lbl1])\n",
                "ax[1].imshow(img2.transpose(1, 2, 0))\n",
                "ax[1].set_title(ds.lbl_cls_map[lbl2])\n",
                "plt.show()"
            ]
        },
        {
            "cell_type": "markdown",
            "metadata": {},
            "source": [
                "## Validate"
            ]
        },
        {
            "cell_type": "code",
            "execution_count": null,
            "metadata": {},
            "outputs": [],
            "source": [
                "import torch\n",
                "from src.datasets import ClassDataset\n",
                "from torch.utils.data import DataLoader\n",
                "from tqdm import tqdm\n",
                "from src.constants import img_wh\n",
                "\n",
                "batch_size = 16\n",
                "ds_names = [\n",
                "    \"datasets/uc-mlr-leaf\",\n",
                "    \"datasets/new-plant-disease\",\n",
                "    \"datasets/plant-doc\",\n",
                "    \"datasets/tea-std\",\n",
                "    \"datasets/tea-grade-v2\",\n",
                "]\n",
                "for root in ds_names:\n",
                "    for split in [\"val\", \"test\", \"train\"]:\n",
                "        ds = ClassDataset(root, split, img_wh)\n",
                "        dl = DataLoader(ds, batch_size)\n",
                "        for batch in tqdm(dl, desc=f\"{root}: {split}\"):\n",
                "            imgs, lbls = batch[\"img\"], batch[\"lbl\"]\n",
                "            assert imgs.shape[1:] == torch.Size([3, *img_wh[::-1]]), imgs.shape\n",
                "            assert imgs.dtype == torch.float32\n",
                "            assert lbls.shape[1:] == torch.Size([]), lbls.shape\n",
                "            assert imgs.min() >= 0\n",
                "            assert imgs.max() <= 1"
            ]
        },
        {
            "cell_type": "markdown",
            "metadata": {},
            "source": [
                "## TeaClass with Augmentation collate_fn\n",
                "\n",
                "### Usage"
            ]
        },
        {
            "cell_type": "code",
            "execution_count": null,
            "metadata": {},
            "outputs": [],
            "source": [
                "import numpy as np\n",
                "from src.datasets import ClassDataset\n",
                "from src.datasets.collate_fns import aug_collate_fn, Augmentor\n",
                "from torch.utils.data import DataLoader\n",
                "import matplotlib.pyplot as plt\n",
                "from functools import partial\n",
                "\n",
                "ds = ClassDataset(\"datasets/tea-grade-v2\")\n",
                "aug = Augmentor([224, 224])\n",
                "batch_size = 16\n",
                "aug_count = 8\n",
                "dl = DataLoader(\n",
                "    ds, batch_size, shuffle=True, collate_fn=partial(aug_collate_fn, aug=aug, aug_count=aug_count)\n",
                ")\n",
                "for batch in dl:\n",
                "    lbls, imgs = batch[\"lbl\"], batch[\"img\"]\n",
                "    print(f\"DataLoager length: {len(dl)}\")\n",
                "    print(f\"Batch images shape: {imgs.shape}\")\n",
                "    print(f\"Batch labels shape: {lbls.shape}\")\n",
                "\n",
                "    imgs = imgs.numpy().transpose(0, 1, 3, 4, 2)\n",
                "    row_count = 2\n",
                "    col_count = 4\n",
                "    fig, ax = plt.subplots(row_count, col_count, figsize=(col_count*3, row_count*3))\n",
                "    img_ids = np.random.randint(0, batch_size, row_count)\n",
                "    for row, img_id in enumerate(img_ids):\n",
                "        aug_ids = np.random.randint(0, aug_count, col_count)\n",
                "        for col, aug_id in enumerate(aug_ids):\n",
                "            ax[row][col].imshow(imgs[img_id, aug_id])\n",
                "            ax[row][col].set_title(f\"{ds.lbl_cls_map[int(lbls[img_id][0])]}, img_id: {img_id}, aug_id: {aug_id}\")\n",
                "    plt.show()\n",
                "    break"
            ]
        },
        {
            "cell_type": "markdown",
            "metadata": {},
            "source": [
                "### Validate"
            ]
        },
        {
            "cell_type": "code",
            "execution_count": null,
            "metadata": {},
            "outputs": [],
            "source": [
                "import torch\n",
                "from src.datasets import ClassDataset\n",
                "from src.datasets.collate_fns import aug_collate_fn, Augmentor\n",
                "from torch.utils.data import DataLoader\n",
                "from functools import partial\n",
                "from tqdm import tqdm\n",
                "from src.constants import img_wh\n",
                "\n",
                "aug = Augmentor([224,224])\n",
                "batch_size = 16\n",
                "aug_count = 8\n",
                "ds_names = [\"tea-std\", \"tea-grade-v2\"]\n",
                "for ds_name in ds_names:\n",
                "    for split in [\"train\", \"test\", \"val\"]:\n",
                "        ds = ClassDataset(f\"datasets/{ds_name}\", split, dataset=ds_name)\n",
                "        dl = DataLoader(\n",
                "            ds,\n",
                "            batch_size,\n",
                "            collate_fn=partial(aug_collate_fn, aug=aug, aug_count=aug_count),\n",
                "            num_workers=4,\n",
                "        )\n",
                "        for batch in tqdm(dl, desc=f\"{ds_name}: {split}\"):\n",
                "            lbls, imgs = batch[\"lbl\"], batch[\"img\"]\n",
                "            assert lbls.dtype == torch.int64\n",
                "            assert imgs.dtype == torch.float\n",
                "            assert imgs.min() >= 0\n",
                "            assert imgs.max() <= 1\n",
                "            assert lbls.shape[1:] == torch.Size([aug_count])\n",
                "            assert imgs.shape[1:] == torch.Size([aug_count, 3, *img_wh[::-1]])"
            ]
        },
        {
            "cell_type": "markdown",
            "metadata": {},
            "source": [
                "# ConcatSet"
            ]
        },
        {
            "cell_type": "markdown",
            "metadata": {},
            "source": [
                "## Usage"
            ]
        },
        {
            "cell_type": "code",
            "execution_count": null,
            "metadata": {},
            "outputs": [],
            "source": [
                "from src.datasets import ConcatSet\n",
                "import random\n",
                "import matplotlib.pyplot as plt\n",
                "\n",
                "\n",
                "root = [\n",
                "    \"datasets/tea-grade-v2\",\n",
                "    \"datasets/tea-std\",\n",
                "    \"datasets/plant-doc\",\n",
                "]\n",
                "conf = [\n",
                "    {\n",
                "        \"target\": \"src.datasets.ClassDataset\",\n",
                "        \"reps\": 1,\n",
                "        \"split_mix\": {\"train\": [\"train\"], \"val\": [\"val\", \"test\"]},\n",
                "        \"params\": {\"resize_wh\": [300, 300]},\n",
                "    },\n",
                "    {\n",
                "        \"target\": \"src.datasets.ClassDataset\",\n",
                "        \"reps\": 1,\n",
                "        \"split_mix\": {\"train\": [\"train\"], \"val\": [\"val\", \"test\"]},\n",
                "        \"params\": {\"resize_wh\": [300, 300]},\n",
                "    },\n",
                "    {\n",
                "        \"target\": \"src.datasets.ClassDataset\",\n",
                "        \"reps\": 1,\n",
                "        \"split_mix\": {\"train\": [\"train\"], \"val\": [\"val\", \"test\"]},\n",
                "        \"params\": {\"resize_wh\": [300, 300]},\n",
                "    },\n",
                "]\n",
                "\n",
                "ds = ConcatSet(root, \"train\", conf)\n",
                "\n",
                "id1 = random.randint(0, len(ds))\n",
                "id2 = random.randint(0, len(ds))\n",
                "sample1 = ds[id1]\n",
                "sample2 = ds[id2]\n",
                "lbl1, img1 = sample1[\"lbl\"], sample1[\"img\"]\n",
                "lbl2, img2 = sample2[\"lbl\"], sample2[\"img\"]\n",
                "print(f\"Dataset length: {len(ds)}\")\n",
                "print(f\"Sample shape: {img1.shape}\")\n",
                "\n",
                "img1, img2 = img1.numpy(), img2.numpy()\n",
                "fig, ax = plt.subplots(1, 2, figsize=(12, 6))\n",
                "ax[0].imshow(img1.transpose(1, 2, 0))\n",
                "ax[0].set_title(lbl1)\n",
                "ax[1].imshow(img2.transpose(1, 2, 0))\n",
                "ax[1].set_title(lbl2)\n",
                "plt.show()"
            ]
        },
        {
            "cell_type": "markdown",
            "metadata": {},
            "source": [
                "## Validation"
            ]
        },
        {
            "cell_type": "code",
            "execution_count": null,
            "metadata": {},
            "outputs": [],
            "source": [
                "import torch\n",
                "from src.datasets import ConcatSet\n",
                "from torch.utils.data import DataLoader\n",
                "from tqdm import tqdm\n",
                "from src.constants import img_wh\n",
                "\n",
                "\n",
                "batch_size = 16\n",
                "resize_shape = [300, 300]\n",
                "root = [\n",
                "    \"datasets/tea-grade-v2\",\n",
                "    \"datasets/tea-std\",\n",
                "    \"datasets/plant-doc\",\n",
                "]\n",
                "conf = [\n",
                "    {\n",
                "        \"target\": \"src.datasets.ClassDataset\",\n",
                "        \"reps\": 1,\n",
                "        \"split_mix\": {\"train\": [\"train\"], \"val\": [\"val\", \"test\"]},\n",
                "        \"params\": {\"resize_wh\": resize_shape},\n",
                "    },\n",
                "    {\n",
                "        \"target\": \"src.datasets.ClassDataset\",\n",
                "        \"reps\": 1,\n",
                "        \"split_mix\": {\"train\": [\"train\"], \"val\": [\"val\", \"test\"]},\n",
                "        \"params\": {\"resize_wh\": resize_shape},\n",
                "    },\n",
                "    {\n",
                "        \"target\": \"src.datasets.ClassDataset\",\n",
                "        \"reps\": 1,\n",
                "        \"split_mix\": {\"train\": [\"train\"], \"val\": [\"val\", \"test\"]},\n",
                "        \"params\": {\"resize_wh\": resize_shape},\n",
                "    },\n",
                "]\n",
                "\n",
                "for split in [\"val\", \"test\", \"train\"]:\n",
                "    ds = ConcatSet(root, split, conf)\n",
                "    dl = DataLoader(ds, batch_size)\n",
                "    for batch in tqdm(dl, desc=f\"{split}\"):\n",
                "        imgs, lbls = batch[\"img\"], batch[\"lbl\"]\n",
                "        assert imgs.shape[1:] == torch.Size([3, *resize_shape[::-1]]), imgs.shape\n",
                "        assert imgs.dtype == torch.float32\n",
                "        assert lbls.shape[1:] == torch.Size([]), lbls.shape\n",
                "        assert imgs.min() >= 0\n",
                "        assert imgs.max() <= 1"
            ]
        },
        {
            "cell_type": "code",
            "execution_count": null,
            "metadata": {},
            "outputs": [],
            "source": []
        }
    ],
    "metadata": {
        "kernelspec": {
            "display_name": "tearetina",
            "language": "python",
            "name": "python3"
        },
        "language_info": {
            "codemirror_mode": {
                "name": "ipython",
                "version": 3
            },
            "file_extension": ".py",
            "mimetype": "text/x-python",
            "name": "python",
            "nbconvert_exporter": "python",
            "pygments_lexer": "ipython3",
            "version": "3.10.13"
        }
    },
    "nbformat": 4,
    "nbformat_minor": 2
}
