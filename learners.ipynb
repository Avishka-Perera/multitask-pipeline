{
    "cells": [
        {
            "cell_type": "markdown",
            "metadata": {},
            "source": [
                "# Backbone\n",
                "## Usage"
            ]
        },
        {
            "cell_type": "code",
            "execution_count": null,
            "metadata": {},
            "outputs": [],
            "source": [
                "from src.learners import BackBoneLearner\n",
                "from src.datasets import ClassDataset\n",
                "from src.datasets.collate_fns import Augmentor\n",
                "from torch.utils.data import DataLoader\n",
                "from src.datasets.collate_fns import aug_collate_fn\n",
                "from src.losses import MMCRLoss\n",
                "from src.util import Logger\n",
                "from functools import partial\n",
                "\n",
                "logger = Logger(1)\n",
                "device = 2\n",
                "\n",
                "model = BackBoneLearner(\n",
                "    enc_name=\"ResNet50\", enc_params={\"drop_out\": 0.2}, logger=logger, devices=[device]\n",
                ")\n",
                "ds = ClassDataset(\"datasets/tea-grade-v2\", resize_wh=[300, 300])\n",
                "aug = Augmentor([224, 224])\n",
                "dl = DataLoader(ds, 16, collate_fn=partial(aug_collate_fn, aug=aug, aug_count=8))\n",
                "loss_fn = MMCRLoss(logger=logger, device=device, lamb=0.01)\n",
                "\n",
                "for batch in dl:\n",
                "    lbls, imgs = batch[\"lbl\"], batch[\"img\"]\n",
                "    out = model(batch)\n",
                "    loss = loss_fn(out, batch, False)\n",
                "    print(\"lbls.shape\", lbls.shape)\n",
                "    print(\"imgs.shape\", imgs.shape)\n",
                "    print('out[\"embs\"].shape', out[\"embs\"].shape)\n",
                "    print(\"loss\", loss)\n",
                "\n",
                "    break"
            ]
        },
        {
            "cell_type": "markdown",
            "metadata": {},
            "source": [
                "# ClassifierLearner\n",
                "## Usage"
            ]
        },
        {
            "cell_type": "code",
            "execution_count": null,
            "metadata": {},
            "outputs": [],
            "source": [
                "from src.learners import ClassifierLearner\n",
                "from src.datasets import ClassDataset\n",
                "from src.datasets.collate_fns import Augmentor\n",
                "from torch.utils.data import DataLoader\n",
                "from src.datasets.collate_fns import aug_collate_fn\n",
                "from src.losses import MMCRLoss, CrossEntropyLoss\n",
                "from src.util import Logger\n",
                "from functools import partial\n",
                "\n",
                "logger = Logger(1)\n",
                "device = 2\n",
                "\n",
                "model = ClassifierLearner(\n",
                "    devices=[device, device],\n",
                "    logger=logger,\n",
                "    head_trail=[34],\n",
                "    enc_name=\"ResNet50\",\n",
                "    enc_params={\"drop_out\": 0.2},\n",
                "    dec_params={\"drop_out\": 0.2, \"use_batch_norm\":True},\n",
                ")\n",
                "ds = ClassDataset(\"datasets/tea-grade-v2\", resize_wh=[300, 300])\n",
                "aug = Augmentor([224, 224])\n",
                "dl = DataLoader(ds, 16, collate_fn=partial(aug_collate_fn, aug=aug, aug_count=8))\n",
                "loss_fn1 = MMCRLoss(device=device, logger=logger, lamb=0.01)\n",
                "loss_fn2 = CrossEntropyLoss(device=device, logger=logger, has_aug_ax=True)\n",
                "\n",
                "for batch in dl:\n",
                "    lbls, imgs = batch[\"lbl\"], batch[\"img\"]\n",
                "    out = model(batch)\n",
                "    loss1 = loss_fn1(out, batch, False)\n",
                "    loss2 = loss_fn2(out, batch, False)\n",
                "    loss = loss1 + loss2\n",
                "    print(\"lbls.shape\", lbls.shape)\n",
                "    print(\"imgs.shape\", imgs.shape)\n",
                "    print('out[\"embs\"].shape', out[\"embs\"].shape)\n",
                "    print(\"loss\", loss)\n",
                "\n",
                "    break"
            ]
        }
    ],
    "metadata": {
        "kernelspec": {
            "display_name": "Python 3",
            "language": "python",
            "name": "python3"
        },
        "language_info": {
            "codemirror_mode": {
                "name": "ipython",
                "version": 3
            },
            "file_extension": ".py",
            "mimetype": "text/x-python",
            "name": "python",
            "nbconvert_exporter": "python",
            "pygments_lexer": "ipython3",
            "version": "3.11.5"
        }
    },
    "nbformat": 4,
    "nbformat_minor": 2
}
